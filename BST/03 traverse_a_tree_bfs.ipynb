{
 "cells": [
  {
   "cell_type": "markdown",
   "metadata": {},
   "source": [
    "## Traverse a tree (breadth first search)\n",
    "\n",
    "We'll now practice implementing breadth first search (BFS).  You'll see breadth first search again when we learn about graph data structures, so BFS is very useful to know."
   ]
  },
  {
   "cell_type": "markdown",
   "metadata": {},
   "source": [
    "## Creating a sample tree\n",
    "\n",
    "We'll create a tree that looks like the following:"
   ]
  },
  {
   "cell_type": "markdown",
   "metadata": {},
   "source": [
    "![tree image](images/tree_01.png \"Tree\")"
   ]
  },
  {
   "cell_type": "code",
   "execution_count": 16,
   "metadata": {},
   "outputs": [],
   "source": [
    "# this code makes the tree that we'll traverse\n",
    "\n",
    "class Node(object):\n",
    "        \n",
    "    def __init__(self,value = None):\n",
    "        self.value = value\n",
    "        self.left = None\n",
    "        self.right = None\n",
    "        \n",
    "    def set_value(self,value):\n",
    "        self.value = value\n",
    "        \n",
    "    def get_value(self):\n",
    "        return self.value\n",
    "        \n",
    "    def set_left_child(self,left):\n",
    "        self.left = left\n",
    "        \n",
    "    def set_right_child(self, right):\n",
    "        self.right = right\n",
    "        \n",
    "    def get_left_child(self):\n",
    "        return self.left\n",
    "    \n",
    "    def get_right_child(self):\n",
    "        return self.right\n",
    "\n",
    "    def has_left_child(self):\n",
    "        return self.left != None\n",
    "    \n",
    "    def has_right_child(self):\n",
    "        return self.right != None\n",
    "    \n",
    "    # define __repr_ to decide what a print statement displays for a Node object\n",
    "    def __repr__(self):\n",
    "        return f\"Node({self.get_value()})\"\n",
    "    \n",
    "    def __str__(self):\n",
    "        return f\"Node({self.get_value()})\"\n",
    "    \n",
    "    \n",
    "class Tree():\n",
    "    def __init__(self, value=None):\n",
    "        self.root = Node(value)\n",
    "        \n",
    "    def get_root(self):\n",
    "        return self.root\n",
    "\n",
    "tree = Tree(\"apple\")\n",
    "tree.get_root().set_left_child(Node(\"banana\"))\n",
    "tree.get_root().set_right_child(Node(\"cherry\"))\n",
    "tree.get_root().get_left_child().set_left_child(Node(\"dates\"))"
   ]
  },
  {
   "cell_type": "markdown",
   "metadata": {},
   "source": [
    "## Breadth first search\n",
    "Breadth first traversal of the tree would visit the nodes in this order:  \n",
    "\n",
    "![tree image](images/tree_01.png \"Tree\")\n",
    "\n",
    "apple, banana, cherry, dates"
   ]
  },
  {
   "cell_type": "markdown",
   "metadata": {},
   "source": [
    "#### Think through the algorithm\n",
    "\n",
    "We are walking down the tree one level at a time. So we start with apple at the root, and next are banana and cherry, and next is dates.\n",
    "\n",
    "\n",
    "1) start at the root node  \n",
    "2) visit the root node's left child (banana), then right child (cherry)  \n",
    "3) visit the left and right children of (banana) and (cherry).\n",
    "\n",
    "## Queue\n",
    "\n",
    "Notice that we're waiting until we visit \"cherry\" before visiting \"dates\".  It's like they're waiting in line.  We can use a queue to keep track of the order."
   ]
  },
  {
   "cell_type": "markdown",
   "metadata": {},
   "source": [
    "## Define a queue class\n"
   ]
  },
  {
   "cell_type": "code",
   "execution_count": 17,
   "metadata": {},
   "outputs": [
    {
     "name": "stdout",
     "output_type": "stream",
     "text": [
      "deque(['banana', 'apple'])\n"
     ]
    }
   ],
   "source": [
    "from collections import deque\n",
    "q = deque()\n",
    "q.appendleft(\"apple\")\n",
    "q.appendleft(\"banana\")\n",
    "print(q)"
   ]
  },
  {
   "cell_type": "code",
   "execution_count": 18,
   "metadata": {},
   "outputs": [
    {
     "data": {
      "text/plain": [
       "'apple'"
      ]
     },
     "execution_count": 18,
     "metadata": {},
     "output_type": "execute_result"
    }
   ],
   "source": [
    "q.pop()"
   ]
  },
  {
   "cell_type": "code",
   "execution_count": 19,
   "metadata": {},
   "outputs": [
    {
     "name": "stdout",
     "output_type": "stream",
     "text": [
      "deque(['banana'])\n"
     ]
    }
   ],
   "source": [
    "print(q)"
   ]
  },
  {
   "cell_type": "code",
   "execution_count": 20,
   "metadata": {},
   "outputs": [
    {
     "data": {
      "text/plain": [
       "1"
      ]
     },
     "execution_count": 20,
     "metadata": {},
     "output_type": "execute_result"
    }
   ],
   "source": [
    "len(q)"
   ]
  },
  {
   "cell_type": "code",
   "execution_count": 21,
   "metadata": {},
   "outputs": [],
   "source": [
    "from collections import deque\n",
    "class Queue():\n",
    "    def __init__(self):\n",
    "        self.q = deque()\n",
    "        \n",
    "    def enq(self,value):\n",
    "        self.q.appendleft(value)\n",
    "        \n",
    "    def deq(self):\n",
    "        if len(self.q) > 0:\n",
    "            return self.q.pop()\n",
    "        else:\n",
    "            return None\n",
    "    \n",
    "    def __len__(self):\n",
    "        return len(self.q)\n",
    "    \n",
    "    def __repr__(self):\n",
    "        if len(self.q) > 0:\n",
    "            s = \"<enqueue here>\\n_________________\\n\" \n",
    "            s += \"\\n_________________\\n\".join([str(item) for item in self.q])\n",
    "            s += \"\\n_________________\\n<dequeue here>\"\n",
    "            return s\n",
    "        else:\n",
    "            return \"<queue is empty>\""
   ]
  },
  {
   "cell_type": "code",
   "execution_count": 22,
   "metadata": {},
   "outputs": [
    {
     "name": "stdout",
     "output_type": "stream",
     "text": [
      "<enqueue here>\n_________________\ncherry\n_________________\nbanana\n_________________\napple\n_________________\n<dequeue here>\n"
     ]
    }
   ],
   "source": [
    "q = Queue()\n",
    "q.enq(\"apple\")\n",
    "q.enq(\"banana\")\n",
    "q.enq(\"cherry\")\n",
    "print(q)"
   ]
  },
  {
   "cell_type": "code",
   "execution_count": 23,
   "metadata": {},
   "outputs": [
    {
     "name": "stdout",
     "output_type": "stream",
     "text": [
      "apple\n"
     ]
    }
   ],
   "source": [
    "print(q.deq())"
   ]
  },
  {
   "cell_type": "code",
   "execution_count": 24,
   "metadata": {},
   "outputs": [
    {
     "name": "stdout",
     "output_type": "stream",
     "text": [
      "<enqueue here>\n_________________\ncherry\n_________________\nbanana\n_________________\n<dequeue here>\n"
     ]
    }
   ],
   "source": [
    "print(q)"
   ]
  },
  {
   "cell_type": "markdown",
   "metadata": {},
   "source": [
    "## Walk through the steps with code\n",
    "\n",
    "We're going to translate what we're doing by hand into code, one step at a time.  This will help us check if our code is doing what we expect it to do.\n",
    "\n",
    "![tree image](images/tree_01.png \"Tree\")"
   ]
  },
  {
   "cell_type": "code",
   "execution_count": 25,
   "metadata": {},
   "outputs": [
    {
     "name": "stdout",
     "output_type": "stream",
     "text": [
      "<enqueue here>\n_________________\nNode(apple)\n_________________\n<dequeue here>\n"
     ]
    }
   ],
   "source": [
    "visit_order = list()\n",
    "q = Queue()\n",
    "\n",
    "# start at the root node and add it to the queue\n",
    "node = tree.get_root()\n",
    "q.enq(node)\n",
    "print(q)"
   ]
  },
  {
   "cell_type": "code",
   "execution_count": 26,
   "metadata": {},
   "outputs": [
    {
     "name": "stdout",
     "output_type": "stream",
     "text": [
      "visit order: [Node(apple)]\n<enqueue here>\n_________________\nNode(cherry)\n_________________\nNode(banana)\n_________________\n<dequeue here>\n"
     ]
    }
   ],
   "source": [
    "# dequeue the next node in the queue. \n",
    "# \"visit\" that node\n",
    "# also add its children to the queue\n",
    "\n",
    "node = q.deq()\n",
    "visit_order.append(node)\n",
    "if node.has_left_child():\n",
    "    q.enq(node.get_left_child())\n",
    "if node.has_right_child():\n",
    "    q.enq(node.get_right_child())\n",
    "    \n",
    "print(f\"visit order: {visit_order}\")\n",
    "print(q)"
   ]
  },
  {
   "cell_type": "code",
   "execution_count": 27,
   "metadata": {},
   "outputs": [
    {
     "name": "stdout",
     "output_type": "stream",
     "text": [
      "visit order: [Node(apple), Node(banana)]\n<enqueue here>\n_________________\nNode(dates)\n_________________\nNode(cherry)\n_________________\n<dequeue here>\n"
     ]
    }
   ],
   "source": [
    "# dequeue the next node (banana)\n",
    "# visit it, and add its children (dates) to the queue \n",
    "\n",
    "node = q.deq()\n",
    "visit_order.append(node)\n",
    "if node.has_left_child():\n",
    "    q.enq(node.get_left_child())\n",
    "if node.has_right_child():\n",
    "    q.enq(node.get_right_child())\n",
    "    \n",
    "print(f\"visit order: {visit_order}\")\n",
    "print(q)"
   ]
  },
  {
   "cell_type": "code",
   "execution_count": 28,
   "metadata": {},
   "outputs": [
    {
     "name": "stdout",
     "output_type": "stream",
     "text": [
      "visit order: [Node(apple), Node(banana), Node(cherry)]\n<enqueue here>\n_________________\nNode(dates)\n_________________\n<dequeue here>\n"
     ]
    }
   ],
   "source": [
    "# dequeue the next node (cherry)\n",
    "# visit it, and add its children (there are None) to the queue \n",
    "\n",
    "node = q.deq()\n",
    "visit_order.append(node)\n",
    "if node.has_left_child():\n",
    "    q.enq(node.get_left_child())\n",
    "if node.has_right_child():\n",
    "    q.enq(node.get_right_child())\n",
    "    \n",
    "print(f\"visit order: {visit_order}\")\n",
    "print(q)"
   ]
  },
  {
   "cell_type": "code",
   "execution_count": 29,
   "metadata": {},
   "outputs": [
    {
     "name": "stdout",
     "output_type": "stream",
     "text": [
      "visit order: [Node(apple), Node(banana), Node(cherry), Node(dates)]\n<queue is empty>\n"
     ]
    }
   ],
   "source": [
    "# dequeue the next node (dates)\n",
    "# visit it, and add its children (there are None) to the queue \n",
    "\n",
    "node = q.deq()\n",
    "visit_order.append(node)\n",
    "if node.has_left_child():\n",
    "    q.enq(node.get_left_child())\n",
    "if node.has_right_child():\n",
    "    q.enq(node.get_right_child())\n",
    "    \n",
    "print(f\"visit order: {visit_order}\")\n",
    "print(q)"
   ]
  },
  {
   "cell_type": "markdown",
   "metadata": {},
   "source": [
    "## Task: write the breadth first search algorithm"
   ]
  },
  {
   "cell_type": "code",
   "execution_count": 30,
   "metadata": {},
   "outputs": [],
   "source": [
    "# BFS algorithm\n",
    "def bfs(tree):\n",
    "\n",
    "    q = Queue()\n",
    "    visit_node = list()\n",
    "    node = tree.get_root()\n",
    "    q.enq(node)\n",
    "    while(len(q) >0):\n",
    "        node = q.deq()\n",
    "        visit_node.append(node)\n",
    "        if node.has_left_child():\n",
    "           q.enq(node.get_left_child())\n",
    "        if node.has_right_child():\n",
    "           q.enq(node.get_right_child())\n",
    "    return visit_node"
   ]
  },
  {
   "cell_type": "code",
   "execution_count": 31,
   "metadata": {},
   "outputs": [
    {
     "data": {
      "text/plain": [
       "[Node(apple), Node(banana), Node(cherry), Node(dates)]"
      ]
     },
     "execution_count": 31,
     "metadata": {},
     "output_type": "execute_result"
    }
   ],
   "source": [
    "# check solution: should be: apple, banana, cherry, dates\n",
    "bfs(tree)"
   ]
  },
  {
   "cell_type": "markdown",
   "metadata": {},
   "source": [
    ""
   ]
  },
  {
   "cell_type": "code",
   "execution_count": null,
   "metadata": {},
   "outputs": [],
   "source": [
    ""
   ]
  },
  {
   "cell_type": "code",
   "execution_count": null,
   "metadata": {},
   "outputs": [],
   "source": [
    ""
   ]
  },
  {
   "cell_type": "markdown",
   "metadata": {},
   "source": [
    "## Solution notebook\n",
    "The solution notebook is [here](03 traverse_a_tree_bfs_solution.ipynb)"
   ]
  }
 ],
 "metadata": {
  "kernelspec": {
   "display_name": "Python 3",
   "language": "python",
   "name": "python3"
  },
  "language_info": {
   "codemirror_mode": {
    "name": "ipython",
    "version": 3
   },
   "file_extension": ".py",
   "mimetype": "text/x-python",
   "name": "python",
   "nbconvert_exporter": "python",
   "pygments_lexer": "ipython3",
   "version": "3.6.3"
  }
 },
 "nbformat": 4,
 "nbformat_minor": 2
}
