{
 "cells": [
  {
   "cell_type": "markdown",
   "metadata": {
    "collapsed": true
   },
   "source": [
    "### Problem Statement\n",
    "\n",
    "You have been given an array of `length = n`. The array contains integers from `0` to `n - 2`. Each number in the array is present exactly once except for one number which is present twice. Find and return this duplicate number present in the array\n",
    "\n",
    "**Example:**\n",
    "* `arr = [0, 2, 3, 1, 4, 5, 3]`\n",
    "* `output = 3` (because `3` is present twice)\n",
    "\n",
    "The expected time complexity for this problem is `O(n)` and the expected space-complexity is `O(1)`."
   ]
  },
  {
   "cell_type": "code",
   "execution_count": 25,
   "metadata": {},
   "outputs": [],
   "source": [
    "def duplicate_number(arr):\n",
    "    \"\"\"\n",
    "    :param - array containing numbers in the range [0, len(arr) - 2]\n",
    "    return - the number that is duplicate in the arr\n",
    "    \"\"\"\n",
    "    for i in range(0, len(arr)):\n",
    "        for j in range(i+1, len(arr)):\n",
    "            if arr[i] == arr[j]:\n",
    "              return arr[i]"
   ]
  },
  {
   "cell_type": "code",
   "execution_count": 26,
   "metadata": {},
   "outputs": [],
   "source": [
    "def test_function(test_case):\n",
    "    arr = test_case[0]\n",
    "    solution = test_case[1]\n",
    "    output = duplicate_number(arr)\n",
    "    if output == solution:\n",
    "        print(\"Pass\")\n",
    "    else:\n",
    "        print(\"Fail\")"
   ]
  },
  {
   "cell_type": "code",
   "execution_count": 27,
   "metadata": {},
   "outputs": [
    {
     "name": "stdout",
     "output_type": "stream",
     "text": [
      "Pass\n"
     ]
    }
   ],
   "source": [
    "arr = [0, 0]\n",
    "solution = 0\n",
    "\n",
    "test_case = [arr, solution]\n",
    "test_function(test_case)"
   ]
  },
  {
   "cell_type": "code",
   "execution_count": 28,
   "metadata": {},
   "outputs": [
    {
     "name": "stdout",
     "output_type": "stream",
     "text": [
      "Pass\n"
     ]
    }
   ],
   "source": [
    "arr = [0, 2, 3, 1, 4, 5, 3]\n",
    "solution = 3\n",
    "\n",
    "test_case = [arr, solution]\n",
    "test_function(test_case)"
   ]
  },
  {
   "cell_type": "code",
   "execution_count": 29,
   "metadata": {},
   "outputs": [
    {
     "name": "stdout",
     "output_type": "stream",
     "text": [
      "Pass\n"
     ]
    }
   ],
   "source": [
    "arr = [0, 1, 5, 4, 3, 2, 0]\n",
    "solution = 0\n",
    "\n",
    "test_case = [arr, solution]\n",
    "test_function(test_case)"
   ]
  },
  {
   "cell_type": "code",
   "execution_count": 30,
   "metadata": {},
   "outputs": [
    {
     "name": "stdout",
     "output_type": "stream",
     "text": [
      "Pass\n"
     ]
    }
   ],
   "source": [
    "arr = [0, 1, 5, 5, 3, 2, 4]\n",
    "solution = 5\n",
    "\n",
    "test_case = [arr, solution]\n",
    "test_function(test_case)\n",
    "\n",
    "\n"
   ]
  },
  {
   "cell_type": "code",
   "execution_count": null,
   "metadata": {},
   "outputs": [],
   "source": []
  }
 ],
 "metadata": {
  "kernelspec": {
   "display_name": "Python 2",
   "language": "python",
   "name": "python2"
  },
  "language_info": {
   "codemirror_mode": {
    "name": "ipython",
    "version": 2
   },
   "file_extension": ".py",
   "mimetype": "text/x-python",
   "name": "python",
   "nbconvert_exporter": "python",
   "pygments_lexer": "ipython2",
   "version": "2.7.6"
  }
 },
 "nbformat": 4,
 "nbformat_minor": 0
}
