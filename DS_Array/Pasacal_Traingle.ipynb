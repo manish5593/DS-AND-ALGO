{
 "cells": [
  {
   "cell_type": "markdown",
   "metadata": {
    "collapsed": true
   },
   "source": [
    "Find and return the `nth` row of Pascal's triangle in the form a list. `n` is 0-based.\n",
    "\n",
    "For exmaple, if `n = 4`, then `output = [1, 4, 6, 4, 1]`.\n",
    "\n",
    "To know more about Pascal's triangle: https://www.mathsisfun.com/pascals"
   ]
  },
  {
   "cell_type": "code",
   "execution_count": 1,
   "metadata": {},
   "outputs": [],
   "source": [
    "def nth_row_pascal(n):\n",
    "    \"\"\"\n",
    "    :param: - n - index (0 based)\n",
    "    return - list() representing nth row of Pascal's triangle\n",
    "    \"\"\"\n",
    "    if n == 0:\n",
    "        return [1]\n",
    "    current_row = [1]\n",
    "    for i in range(1, n+1):\n",
    "        previous_row = current_row\n",
    "        current_row = [1]\n",
    "        for j in range(1, i):\n",
    "            next_number = previous_row[j] + previous_row[j-1]\n",
    "            current_row.append(next_number)\n",
    "        current_row.append(1)\n",
    "    return current_row\n",
    "        "
   ]
  },
  {
   "cell_type": "code",
   "execution_count": 2,
   "metadata": {},
   "outputs": [],
   "source": [
    "def test_function(test_case):\n",
    "    n = test_case[0]\n",
    "    solution = test_case[1]\n",
    "    output = nth_row_pascal(n)\n",
    "    if solution == output:\n",
    "        print(\"Pass\")\n",
    "    else:\n",
    "        print(\"Fail\")"
   ]
  },
  {
   "cell_type": "code",
   "execution_count": 3,
   "metadata": {},
   "outputs": [
    {
     "name": "stdout",
     "output_type": "stream",
     "text": [
      "Pass\n"
     ]
    }
   ],
   "source": [
    "n = 0\n",
    "solution = [1]\n",
    "\n",
    "test_case = [n, solution]\n",
    "test_function(test_case)"
   ]
  },
  {
   "cell_type": "code",
   "execution_count": 4,
   "metadata": {},
   "outputs": [
    {
     "name": "stdout",
     "output_type": "stream",
     "text": [
      "Pass\n"
     ]
    }
   ],
   "source": [
    "n = 1\n",
    "solution = [1, 1]\n",
    "\n",
    "test_case = [n, solution]\n",
    "test_function(test_case)"
   ]
  },
  {
   "cell_type": "code",
   "execution_count": 5,
   "metadata": {},
   "outputs": [
    {
     "name": "stdout",
     "output_type": "stream",
     "text": [
      "Pass\n"
     ]
    }
   ],
   "source": [
    "n = 2\n",
    "solution = [1, 2, 1]\n",
    "\n",
    "test_case = [n, solution]\n",
    "test_function(test_case)"
   ]
  },
  {
   "cell_type": "code",
   "execution_count": 6,
   "metadata": {},
   "outputs": [
    {
     "name": "stdout",
     "output_type": "stream",
     "text": [
      "Pass\n"
     ]
    }
   ],
   "source": [
    "n = 3\n",
    "solution = [1, 3, 3, 1]\n",
    "\n",
    "test_case = [n, solution]\n",
    "test_function(test_case)"
   ]
  },
  {
   "cell_type": "code",
   "execution_count": 7,
   "metadata": {},
   "outputs": [
    {
     "name": "stdout",
     "output_type": "stream",
     "text": [
      "Pass\n"
     ]
    }
   ],
   "source": [
    "n = 4\n",
    "solution = [1, 4, 6, 4, 1]\n",
    "\n",
    "test_case = [n, solution]\n",
    "test_function(test_case)"
   ]
  },
  {
   "cell_type": "code",
   "execution_count": 30,
   "metadata": {},
   "outputs": [],
   "source": []
  },
  {
   "cell_type": "code",
   "execution_count": null,
   "metadata": {},
   "outputs": [],
   "source": []
  }
 ],
 "metadata": {
  "kernelspec": {
   "display_name": "Python 2",
   "language": "python",
   "name": "python2"
  },
  "language_info": {
   "codemirror_mode": {
    "name": "ipython",
    "version": 2
   },
   "file_extension": ".py",
   "mimetype": "text/x-python",
   "name": "python",
   "nbconvert_exporter": "python",
   "pygments_lexer": "ipython2",
   "version": "2.7.6"
  }
 },
 "nbformat": 4,
 "nbformat_minor": 0
}
