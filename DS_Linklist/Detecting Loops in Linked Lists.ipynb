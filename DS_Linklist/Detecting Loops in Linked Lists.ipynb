{
 "cells": [
  {
   "cell_type": "heading",
   "metadata": {
    "collapsed": true
   },
   "level": 1,
   "source": []
  },
  {
   "cell_type": "heading",
   "metadata": {},
   "level": 1,
   "source": [
    "Detecting Loops in Linked Lists"
   ]
  },
  {
   "cell_type": "markdown",
   "metadata": {},
   "source": [
    "In this notebook, you'll implement a function that detects if a loop exists in a linked list. The way we'll do this is by having two pointers, called \"runners\", moving through the list at different rates. Typically we have a \"slow\" runner which moves at one node per step and a \"fast\" runner that moves at two nodes per step.\n",
    "\n",
    "If a loop exists in the list, the fast runner will eventually move behind the slow runner as it moves to the beginning of the loop. Eventually it will catch up to the slow runner and both runners will be pointing to the same node at the same time. If this happens then you know there is a loop in the linked list. Below is an example where we have a slow runner (the green arrow) and a fast runner (the red arrow)."
   ]
  },
  {
   "cell_type": "code",
   "execution_count": 3,
   "metadata": {},
   "outputs": [],
   "source": [
    "class Node:\n",
    "    def __init__(self, value):\n",
    "        self.value = value\n",
    "        self.next = None\n",
    "\n",
    "class LinkedList:\n",
    "    def __init__(self, init_list=None):\n",
    "        self.head = None\n",
    "        if init_list:\n",
    "            for value in init_list:\n",
    "                self.append(value)\n",
    "\n",
    "    def append(self, value):\n",
    "        if self.head is None:\n",
    "            self.head = Node(value)\n",
    "            return\n",
    "\n",
    "        # Move to the tail (the last node)\n",
    "        node = self.head\n",
    "        while node.next:\n",
    "            node = node.next\n",
    "\n",
    "        node.next = Node(value)\n",
    "        return"
   ]
  },
  {
   "cell_type": "code",
   "execution_count": 4,
   "metadata": {},
   "outputs": [],
   "source": [
    "list_with_loop = LinkedList([2, -1, 3, 0, 5])\n",
    "\n",
    "# Creating a loop where the last node points back to the second node\n",
    "loop_start = list_with_loop.head.next\n",
    "\n",
    "node = list_with_loop.head\n",
    "while node.next:\n",
    "    node = node.next\n",
    "node.next = loop_start"
   ]
  },
  {
   "cell_type": "markdown",
   "metadata": {},
   "source": [
    "Exercise: Given a linked list, implement a function iscircular that returns True if a loop exists in the list and False otherwise."
   ]
  },
  {
   "cell_type": "code",
   "execution_count": 7,
   "metadata": {},
   "outputs": [],
   "source": [
    "def iscircular(linked_list):\n",
    "    \"\"\"\n",
    "    Determine whether the Linked List is circular or not\n",
    "\n",
    "    Args:\n",
    "       linked_list(obj): Linked List to be checked\n",
    "    Returns:\n",
    "       bool: Return True if the linked list is circular, return False otherwise\n",
    "    \"\"\"\n",
    "\n",
    "    # TODO: Write function to check if linked list is circular\n",
    "\n",
    "    if linked_list.head is None:\n",
    "        return False\n",
    "    slow = linked_list.head\n",
    "    fast = linked_list.head\n",
    "    while fast and fast.next:\n",
    "        slow = slow.next\n",
    "        fast = fast.next.next\n",
    "        if slow == fast:\n",
    "            return True\n",
    "    return False"
   ]
  },
  {
   "cell_type": "code",
   "execution_count": 8,
   "metadata": {},
   "outputs": [
    {
     "name": "stdout",
     "output_type": "stream",
     "text": [
      "Pass\nPass\nPass\nPass\nPass\n"
     ]
    }
   ],
   "source": [
    "# Test Cases\n",
    "\n",
    "small_loop = LinkedList([0])\n",
    "small_loop.head.next = small_loop.head\n",
    "print (\"Pass\" if iscircular(list_with_loop) else \"Fail\")\n",
    "print (\"Pass\" if not iscircular(LinkedList([-4, 7, 2, 5, -1])) else \"Fail\")\n",
    "print (\"Pass\" if not iscircular(LinkedList([1])) else \"Fail\")\n",
    "print (\"Pass\" if iscircular(small_loop) else \"Fail\")\n",
    "print (\"Pass\" if not iscircular(LinkedList([])) else \"Fail\")"
   ]
  },
  {
   "cell_type": "code",
   "execution_count": null,
   "metadata": {},
   "outputs": [],
   "source": []
  }
 ],
 "metadata": {
  "kernelspec": {
   "display_name": "Python 2",
   "language": "python",
   "name": "python2"
  },
  "language_info": {
   "codemirror_mode": {
    "name": "ipython",
    "version": 2
   },
   "file_extension": ".py",
   "mimetype": "text/x-python",
   "name": "python",
   "nbconvert_exporter": "python",
   "pygments_lexer": "ipython2",
   "version": "2.7.6"
  }
 },
 "nbformat": 4,
 "nbformat_minor": 0
}
