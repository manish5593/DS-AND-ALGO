{
 "cells": [
  {
   "cell_type": "heading",
   "metadata": {
    "collapsed": true
   },
   "level": 1,
   "source": [
    "\n",
    "Sorting with linked lists"
   ]
  },
  {
   "cell_type": "markdown",
   "metadata": {},
   "source": [
    "Given a stream of random integers, create a linked list that is always sorted from ascending order (lowest to highest). What's the computational complexity of adding an element in this way?"
   ]
  },
  {
   "cell_type": "code",
   "execution_count": 22,
   "metadata": {},
   "outputs": [],
   "source": [
    "# Use this class as the nodes in your linked list\n",
    "class Node:\n",
    "    def __init__(self, value):\n",
    "        self.value = value\n",
    "        self.next = None\n",
    "\n",
    "    def __repr__(self):\n",
    "        return str(self.value)"
   ]
  },
  {
   "cell_type": "code",
   "execution_count": 23,
   "metadata": {},
   "outputs": [],
   "source": [
    "class SortedLinkedList:\n",
    "    def __init__(self):\n",
    "        self.head = None\n",
    "\n",
    "    def append(self, value):\n",
    "        \"\"\"\n",
    "        Append a value to the Linked List in ascending sorted order\n",
    "\n",
    "        Args:\n",
    "           value(int): Value to add to Linked List\n",
    "        \"\"\"\n",
    "\n",
    "        # TODO: Write your sorted append function here\n",
    "\n",
    "        if self.head is None:\n",
    "            self.head = Node(value)\n",
    "            return\n",
    "        if value < self.head.value:\n",
    "            node = Node(value)\n",
    "            node.next = self.head\n",
    "            self.head = node\n",
    "            return\n",
    "        node = self.head\n",
    "        while node.next is not None and value >= node.next.value:\n",
    "            node = node.next\n",
    "        new_node = Node(value)\n",
    "        new_node.next = node.next\n",
    "        node.next = new_node"
   ]
  },
  {
   "cell_type": "code",
   "execution_count": 24,
   "metadata": {
    "collapsed": true
   },
   "outputs": [
    {
     "name": "stdout",
     "output_type": "stream",
     "text": [
      "Pass\nPass\nPass\n"
     ]
    }
   ],
   "source": [
    "# Test cases\n",
    "linked_list = SortedLinkedList()\n",
    "linked_list.append(3)\n",
    "print (\"Pass\" if (linked_list.head.value == 3) else \"Fail\")\n",
    "\n",
    "linked_list.append(2)\n",
    "print (\"Pass\" if (linked_list.head.value == 2) else \"Fail\")\n",
    "\n",
    "linked_list.append(4)\n",
    "node = linked_list.head.next.next\n",
    "print (\"Pass\" if (node.value == 4) else \"Fail\")"
   ]
  },
  {
   "cell_type": "heading",
   "metadata": {},
   "level": 1,
   "source": [
    "\n",
    "Computational complexity is $O(N)$ where $N$ is the current length of the linked list."
   ]
  },
  {
   "cell_type": "heading",
   "metadata": {},
   "level": 1,
   "source": [
    "Additional question: Sort an array with this linked list"
   ]
  },
  {
   "cell_type": "markdown",
   "metadata": {},
   "source": [
    "Given an array of integers, use this linked list to sort them and return a sorted array. What's the computational complexity of this sorting algorithm? How does it compare to other sorting algorithms?"
   ]
  },
  {
   "cell_type": "code",
   "execution_count": 25,
   "metadata": {},
   "outputs": [],
   "source": [
    "def sort(array):\n",
    "    \"\"\"\n",
    "    Given an array of integers, use SortedLinkedList to sort them and return a sorted array.\n",
    "\n",
    "    Args:\n",
    "       array(array): Array of integers to be sorted\n",
    "    Returns:\n",
    "       array: Return sorted array\n",
    "    \"\"\"\n",
    "\n",
    "    # TODO: Write your sorting function here\n",
    "\n",
    "    sorted_array = []\n",
    "    linked_list = SortedLinkedList()\n",
    "    for value in array:\n",
    "        linked_list.append(value)\n",
    "    node = linked_list.head\n",
    "    while node:\n",
    "        sorted_array.append(node.value)\n",
    "        node = node.next\n",
    "    return sorted_array"
   ]
  },
  {
   "cell_type": "code",
   "execution_count": 26,
   "metadata": {},
   "outputs": [
    {
     "name": "stdout",
     "output_type": "stream",
     "text": [
      "Pass\n"
     ]
    }
   ],
   "source": [
    "# Test case\n",
    "print (\"Pass\" if (sort([4, 8, 2, 1, -3, 1, 5]) == [-3, 1, 1, 2, 4, 5, 8]) else \"Fail\")"
   ]
  },
  {
   "cell_type": "markdown",
   "metadata": {},
   "source": [
    "Computational complexity is $O(N^2)$ where N is the length of the integer array. One insert is $O(M)$ where $M$ is the length of the existing linked list. As the list grows, the time complexity of inserting grows. It's something like $1 + 2 + 3 + 4 + \\cdots + N$.\n",
    "\n",
    "$$\n",
    "1 + 2 + 3 + 4 + \\cdots + N = \\sum_n^N n = \\frac{N(N+1)}{2}\n",
    "$$\n",
    "Then our time complexity for sorting itself is $O(N^2)$. Converting from the linked list to an array is $O(N)$. Combined this is $O(N^2 + N) = O(N^2)$. Sorting algorithms such as quicksort and mergesort (which we'll look at later) are $N \\log N$, so this algorithm is slower."
   ]
  },
  {
   "cell_type": "code",
   "execution_count": null,
   "metadata": {},
   "outputs": [],
   "source": []
  }
 ],
 "metadata": {
  "kernelspec": {
   "display_name": "Python 2",
   "language": "python",
   "name": "python2"
  },
  "language_info": {
   "codemirror_mode": {
    "name": "ipython",
    "version": 2
   },
   "file_extension": ".py",
   "mimetype": "text/x-python",
   "name": "python",
   "nbconvert_exporter": "python",
   "pygments_lexer": "ipython2",
   "version": "2.7.6"
  }
 },
 "nbformat": 4,
 "nbformat_minor": 0
}
