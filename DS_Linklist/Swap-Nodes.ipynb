{
 "cells": [
  {
   "cell_type": "heading",
   "metadata": {
    "collapsed": true
   },
   "level": 1,
   "source": [
    "## Problem Statement\n",
    "\n"
   ]
  },
  {
   "cell_type": "markdown",
   "metadata": {},
   "source": [
    "Given a linked list, swap the two nodes present at position `i` and `j`. The positions are based on 0-based indexing.\n",
    "\n",
    "**Note:** You have to swap the nodes and not just the values. \n",
    "\n",
    "**Example:**\n",
    "* `linked_list = 3 4 5 2 6 1 9`\n",
    "* `positions = 3 4`\n",
    "* `output = 3 4 5 6 2 1 9`\n",
    "\n",
    "**Explanation:** \n",
    "* The node at position 3 has the value `2`\n",
    "* The node at position 4 has the value `6`\n",
    "* Swapping these nodes will result in a final order of nodes of `3 4 5 6 2 1 9`"
   ]
  },
  {
   "cell_type": "code",
   "execution_count": 13,
   "metadata": {},
   "outputs": [],
   "source": [
    "class Node:\n",
    "    \"\"\"LinkedListNode class to be used for this problem\"\"\"\n",
    "    def __init__(self, data):\n",
    "        self.data = data\n",
    "        self.next = None"
   ]
  },
  {
   "cell_type": "code",
   "execution_count": 24,
   "metadata": {},
   "outputs": [],
   "source": [
    "def swap_nodes(head, left_index, right_index):\n",
    "    \"\"\"\n",
    "    :param: head- head of input linked list\n",
    "    :param: left_index - indicates position\n",
    "    :param: right_index - indicates position\n",
    "    return: head of updated linked list with nodes swapped\n",
    "    TODO: complete this function and swap nodes present at left_index and right_index\n",
    "    Do not create a new linked list\n",
    "    \"\"\"\n",
    "    if left_index == right_index:\n",
    "        return head\n",
    "    count = 0\n",
    "    temp = head\n",
    "    new_head = None\n",
    "    cur_1 = None\n",
    "    cur_2 = None\n",
    "    prev_1 = None\n",
    "    prev_2 = None\n",
    "    while temp is not None:\n",
    "        if count == left_index:\n",
    "            cur_1 = temp\n",
    "        elif count == right_index:\n",
    "            cur_2 = temp\n",
    "            break\n",
    "        \n",
    "        if cur_1 is None:\n",
    "            prev_1 = temp\n",
    "        prev_2 = temp\n",
    "        temp = temp.next\n",
    "        count += 1\n",
    "    prev_2.next = cur_1\n",
    "    temp = cur_1.next\n",
    "    cur_1.next = cur_2.next\n",
    "\n",
    "    # if both the indices are next to each other\n",
    "    if left_index != right_index:\n",
    "        cur_2.next = temp\n",
    "\n",
    "    # if the node at first index is head of the original linked list\n",
    "    if prev_1 is None:\n",
    "        new_head = cur_2\n",
    "    else:\n",
    "        prev_1.next = cur_2\n",
    "        new_head = head\n",
    "\n",
    "    return new_head\n",
    "        \n",
    "            \n",
    "            \n",
    "        \n",
    "        \n",
    "    "
   ]
  },
  {
   "cell_type": "code",
   "execution_count": 25,
   "metadata": {},
   "outputs": [],
   "source": [
    "def test_function(test_case):\n",
    "    head = test_case[0]\n",
    "    left_index = test_case[1]\n",
    "    right_index = test_case[2]\n",
    "\n",
    "    left_node = None\n",
    "    right_node = None\n",
    "\n",
    "    temp = head\n",
    "    index = 0\n",
    "    try:\n",
    "        while temp is not None:\n",
    "            if index == left_index:\n",
    "                left_node = temp\n",
    "            if index == right_index:\n",
    "                right_node = temp\n",
    "                break\n",
    "            index += 1\n",
    "            temp = temp.next\n",
    "\n",
    "        updated_head = swap_nodes(head, left_index, right_index)\n",
    "\n",
    "        temp = updated_head\n",
    "        index = 0\n",
    "        pass_status = [False, False]\n",
    "\n",
    "        while temp is not None:\n",
    "            if index == left_index:\n",
    "                pass_status[0] = temp is right_node\n",
    "            if index == right_index:\n",
    "                pass_status[1] = temp is left_node\n",
    "\n",
    "            index += 1\n",
    "            temp = temp.next\n",
    "\n",
    "        if pass_status[0] and pass_status[1]:\n",
    "            print(\"Pass\")\n",
    "        else:\n",
    "            print(\"Fail\")\n",
    "        return updated_head\n",
    "    except Exception as e:\n",
    "        print(\"Fail\")"
   ]
  },
  {
   "cell_type": "code",
   "execution_count": 26,
   "metadata": {},
   "outputs": [],
   "source": [
    "# helper functions for testing purpose\n",
    "def create_linked_list(arr):\n",
    "    if len(arr)==0:\n",
    "        return None\n",
    "    head = Node(arr[0])\n",
    "    tail = head\n",
    "    for data in arr[1:]:\n",
    "        tail.next = Node(data)\n",
    "        tail = tail.next\n",
    "    return head\n",
    "\n",
    "def print_linked_list(head):\n",
    "    while head:\n",
    "        print(head.data, end=\" \")\n",
    "        head = head.next\n",
    "    print()"
   ]
  },
  {
   "cell_type": "code",
   "execution_count": 27,
   "metadata": {},
   "outputs": [
    {
     "name": "stdout",
     "output_type": "stream",
     "text": [
      "Pass\n"
     ]
    }
   ],
   "source": [
    "arr = [3, 4, 5, 2, 6, 1, 9]\n",
    "head = create_linked_list(arr)\n",
    "left_index = 3\n",
    "right_index = 4\n",
    "\n",
    "test_case = [head, left_index, right_index]\n",
    "updated_head = test_function(test_case)"
   ]
  },
  {
   "cell_type": "code",
   "execution_count": 28,
   "metadata": {},
   "outputs": [
    {
     "name": "stdout",
     "output_type": "stream",
     "text": [
      "Pass\n"
     ]
    }
   ],
   "source": [
    "arr = [3, 4, 5, 2, 6, 1, 9]\n",
    "left_index = 2\n",
    "right_index = 4\n",
    "head = create_linked_list(arr)\n",
    "test_case = [head, left_index, right_index]\n",
    "updated_head = test_function(test_case)"
   ]
  },
  {
   "cell_type": "code",
   "execution_count": 29,
   "metadata": {},
   "outputs": [
    {
     "name": "stdout",
     "output_type": "stream",
     "text": [
      "Pass\n"
     ]
    }
   ],
   "source": [
    "arr = [3, 4, 5, 2, 6, 1, 9]\n",
    "left_index = 0\n",
    "right_index = 1\n",
    "head = create_linked_list(arr)\n",
    "test_case = [head, left_index, right_index]\n",
    "updated_head = test_function(test_case)"
   ]
  },
  {
   "cell_type": "code",
   "execution_count": 9,
   "metadata": {},
   "outputs": [],
   "source": []
  },
  {
   "cell_type": "code",
   "execution_count": null,
   "metadata": {},
   "outputs": [],
   "source": []
  }
 ],
 "metadata": {
  "kernelspec": {
   "display_name": "Python 2",
   "language": "python",
   "name": "python2"
  },
  "language_info": {
   "codemirror_mode": {
    "name": "ipython",
    "version": 2
   },
   "file_extension": ".py",
   "mimetype": "text/x-python",
   "name": "python",
   "nbconvert_exporter": "python",
   "pygments_lexer": "ipython2",
   "version": "2.7.6"
  }
 },
 "nbformat": 4,
 "nbformat_minor": 0
}
