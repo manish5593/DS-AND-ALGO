{
 "cells": [
  {
   "cell_type": "markdown",
   "metadata": {
    "collapsed": true
   },
   "source": [
    "Caching can be defined as the process of storing data into a temporary data storage to avoid recomputation or to avoid reading the data from a relatively slower part of memory again and again. Thus cachig serves as a fast \"look-up\" storage allowing programs to execute faster."
   ]
  },
  {
   "cell_type": "markdown",
   "metadata": {},
   "source": [
    "Let's use caching to chalk out an efficient solution for a problem."
   ]
  },
  {
   "cell_type": "heading",
   "metadata": {},
   "level": 1,
   "source": [
    "Problem Statement"
   ]
  },
  {
   "cell_type": "markdown",
   "metadata": {},
   "source": [
    "A child is running up a staircase with and can hop either 1 step, 2 steps or 3 steps at a time. If the staircase has n steps, write a function to count the number of possible ways in which child can run up the stairs.\n",
    "\n",
    "For e.g.\n",
    "\n",
    "n == 1 then answer = 1\n",
    "\n",
    "n == 3 then answer = 4\n",
    "\n",
    "n == 5 then answer = 13"
   ]
  },
  {
   "cell_type": "code",
   "execution_count": 1,
   "metadata": {},
   "outputs": [],
   "source": [
    "def staircase(n):\n",
    "    # Base Case - minimum steps possible and number of ways the child can climb them\n",
    "\n",
    "    # Inductive Hypothesis - ways to climb rest of the steps\n",
    "\n",
    "    # Inductive Step - use Inductive Hypothesis to formulate a solution\n",
    "\n",
    "    if n == 1:\n",
    "        return 1\n",
    "    elif n == 2:\n",
    "        return 2\n",
    "    elif n == 3:\n",
    "        return 4\n",
    "    return staircase(n-1) + staircase(n-2) + staircase(n-3)\n",
    "        "
   ]
  },
  {
   "cell_type": "code",
   "execution_count": 2,
   "metadata": {},
   "outputs": [],
   "source": [
    "def test_function(test_case):\n",
    "    answer = staircase(test_case[0])\n",
    "    if answer == test_case[1]:\n",
    "        print(\"Pass\")\n",
    "    else:\n",
    "        print(\"Fail\")"
   ]
  },
  {
   "cell_type": "code",
   "execution_count": 3,
   "metadata": {},
   "outputs": [
    {
     "name": "stdout",
     "output_type": "stream",
     "text": [
      "Pass\n"
     ]
    }
   ],
   "source": [
    "test_case = [4, 7]\n",
    "test_function(test_case)"
   ]
  },
  {
   "cell_type": "code",
   "execution_count": 4,
   "metadata": {},
   "outputs": [
    {
     "name": "stdout",
     "output_type": "stream",
     "text": [
      "Pass\n"
     ]
    }
   ],
   "source": [
    "test_case = [5, 13]\n",
    "test_function(test_case)"
   ]
  },
  {
   "cell_type": "code",
   "execution_count": 5,
   "metadata": {},
   "outputs": [
    {
     "name": "stdout",
     "output_type": "stream",
     "text": [
      "Pass\n"
     ]
    }
   ],
   "source": [
    "test_case = [3, 4]\n",
    "test_function(test_case)"
   ]
  },
  {
   "cell_type": "code",
   "execution_count": 6,
   "metadata": {},
   "outputs": [
    {
     "name": "stdout",
     "output_type": "stream",
     "text": [
      "Pass\n"
     ]
    }
   ],
   "source": [
    "test_case = [20, 121415]\n",
    "test_function(test_case)"
   ]
  },
  {
   "cell_type": "heading",
   "metadata": {},
   "level": 1,
   "source": [
    "Problem Statement"
   ]
  },
  {
   "cell_type": "markdown",
   "metadata": {},
   "source": [
    "While using recursion for the above problem, you might have noticed a small problem with efficiency.\n",
    "\n",
    "Let's take a look at an example.\n",
    "\n",
    "Say the total number of steps are 5. This means that we will have to call at (n=4), (n=3), and (n=2)\n",
    "\n",
    "To calculate the answer for n=4, we would have to call (n=3), (n=2) and (n=1)\n",
    "\n",
    "You can notice that even for a small number of staircases (here 5), we are calling n=3 and n=2 multiple times. Each time we call a method, additional time is required to calculate the solution. In contrast, instead of calling on a particular value of n again and again, we can calculate it once and store the result to speed up our program.\n",
    "\n",
    "Your job is to use any data-structure that you have used until now to write a faster implementation of the function you wrote earlier while using recursion."
   ]
  },
  {
   "cell_type": "code",
   "execution_count": 7,
   "metadata": {},
   "outputs": [],
   "source": [
    "def staircase(n):\n",
    "    num_dict = ({})\n",
    "    return staircase_faster(n, num_dict)\n",
    "    \n",
    "def staircase_faster(n, num_dict):\n",
    "    if n == 1:\n",
    "        output = 1\n",
    "    elif n == 2:\n",
    "        output = 2\n",
    "    elif n == 3:\n",
    "        output = 4\n",
    "    else:\n",
    "        if (n-1) in num_dict:\n",
    "            first_output = num_dict[n-1]\n",
    "        else:\n",
    "            first_output = staircase_faster(n-1, num_dict)\n",
    "        if (n-2) in num_dict:\n",
    "            second_output = num_dict[n-2]\n",
    "        else:\n",
    "            second_output = staircase_faster(n-2, num_dict)\n",
    "        if (n-3) in num_dict:\n",
    "            third_output = num_dict[n-3]\n",
    "        else:\n",
    "            third_output = staircase_faster(n-3, num_dict)\n",
    "        return first_output + second_output + third_output\n",
    "    num_dict[n] = output\n",
    "    return output"
   ]
  },
  {
   "cell_type": "code",
   "execution_count": 14,
   "metadata": {},
   "outputs": [
    {
     "name": "stdout",
     "output_type": "stream",
     "text": [
      "Pass\n"
     ]
    }
   ],
   "source": [
    "test_case = [4, 7]\n",
    "test_function(test_case)"
   ]
  },
  {
   "cell_type": "code",
   "execution_count": 9,
   "metadata": {},
   "outputs": [
    {
     "name": "stdout",
     "output_type": "stream",
     "text": [
      "Pass\n"
     ]
    }
   ],
   "source": [
    "test_case = [5, 13]\n",
    "test_function(test_case)"
   ]
  },
  {
   "cell_type": "code",
   "execution_count": 16,
   "metadata": {},
   "outputs": [
    {
     "name": "stdout",
     "output_type": "stream",
     "text": [
      "Pass\n"
     ]
    }
   ],
   "source": [
    "test_case = [3, 4]\n",
    "test_function(test_case)"
   ]
  },
  {
   "cell_type": "code",
   "execution_count": 11,
   "metadata": {},
   "outputs": [
    {
     "name": "stdout",
     "output_type": "stream",
     "text": [
      "Pass\n"
     ]
    }
   ],
   "source": [
    "test_case = [20, 121415]\n",
    "test_function(test_case)"
   ]
  },
  {
   "cell_type": "code",
   "execution_count": null,
   "metadata": {},
   "outputs": [],
   "source": []
  }
 ],
 "metadata": {
  "kernelspec": {
   "display_name": "Python 2",
   "language": "python",
   "name": "python2"
  },
  "language_info": {
   "codemirror_mode": {
    "name": "ipython",
    "version": 2
   },
   "file_extension": ".py",
   "mimetype": "text/x-python",
   "name": "python",
   "nbconvert_exporter": "python",
   "pygments_lexer": "ipython2",
   "version": "2.7.6"
  }
 },
 "nbformat": 4,
 "nbformat_minor": 0
}
