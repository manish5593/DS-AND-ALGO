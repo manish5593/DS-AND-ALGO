{
 "cells": [
  {
   "cell_type": "heading",
   "metadata": {
    "collapsed": true
   },
   "level": 1,
   "source": [
    "Implement a queue using an array"
   ]
  },
  {
   "cell_type": "heading",
   "metadata": {},
   "level": 1,
   "source": []
  },
  {
   "cell_type": "heading",
   "metadata": {},
   "level": 1,
   "source": [
    "Functionality"
   ]
  },
  {
   "cell_type": "markdown",
   "metadata": {},
   "source": [
    "Once implemented, our queue will need to have the following functionality:"
   ]
  },
  {
   "cell_type": "markdown",
   "metadata": {},
   "source": [
    "enqueue - adds data to the back of the queue\n",
    "\n",
    "dequeue - removes data from the front of the queue\n",
    "\n",
    "front - returns the element at the front of the queue\n",
    "\n",
    "size - returns the number of elements present in the queue\n",
    "\n",
    "is_empty - returns True if there are no elements in the queue, and False otherwise\n",
    "\n",
    "_handle_full_capacity - increases the capacity of the array, for cases in which the queue would otherwise overflow\n",
    "\n",
    "Also, if the queue is empty, dequeue and front operations should return None."
   ]
  },
  {
   "cell_type": "heading",
   "metadata": {},
   "level": 1,
   "source": [
    "1) Create the queue class and its __init__ method"
   ]
  },
  {
   "cell_type": "markdown",
   "metadata": {},
   "source": [
    "Define a class named Queue and add the __init__ method\n",
    "\n",
    "Initialize the arr attribute with an array containing 10 elements, like this: [0, 0, 0, 0, 0, 0, 0, 0, 0, 0]\n",
    "\n",
    "Initialize the next_index attribute\n",
    "\n",
    "Initialize the front_index attribute\n",
    "\n",
    "Initialize the queue_size attribute"
   ]
  },
  {
   "cell_type": "markdown",
   "metadata": {},
   "source": [
    "Let's check that the array is being initialized correctly. We can create a Queue object and access the arr attribute, and we should see our ten-element array:"
   ]
  },
  {
   "cell_type": "code",
   "execution_count": 11,
   "metadata": {},
   "outputs": [],
   "source": [
    "class Queue:\n",
    "    def __init__(self, size = 10):\n",
    "        self.arr = [0 for _ in range (size)]\n",
    "        self.next_index = 0\n",
    "        self.front_index = -1\n",
    "        self.queue_size = 0\n",
    "        \n",
    "\n",
    "\n",
    "        "
   ]
  },
  {
   "cell_type": "code",
   "execution_count": 12,
   "metadata": {},
   "outputs": [
    {
     "name": "stdout",
     "output_type": "stream",
     "text": [
      "[0, 0, 0, 0, 0, 0, 0, 0, 0, 0]\nPass\n"
     ]
    }
   ],
   "source": [
    "q = Queue()\n",
    "print(q.arr)\n",
    "print(\"Pass\" if q.arr == [0, 0, 0, 0, 0, 0, 0, 0, 0, 0] else \"Fail\")"
   ]
  },
  {
   "cell_type": "heading",
   "metadata": {},
   "level": 1,
   "source": [
    "2. Add the enqueue method"
   ]
  },
  {
   "cell_type": "markdown",
   "metadata": {},
   "source": [
    "In the cell below, add the code for the enqueue method.\n",
    "\n",
    "The method should:\n",
    "\n",
    "Take a value as input and assign this value to the next free slot in the array\n",
    "\n",
    "Increment queue_size\n",
    "\n",
    "Increment next_index (this is where you'll need to use the modulo operator %)\n",
    "\n",
    "If the front index is -1 (because the queue was empty), it should set the front index to 0"
   ]
  },
  {
   "cell_type": "code",
   "execution_count": 13,
   "metadata": {},
   "outputs": [],
   "source": [
    "class Queue:\n",
    "\n",
    "    def __init__(self, initial_size=10):\n",
    "        self.arr = [0 for _ in range(initial_size)]\n",
    "        self.next_index = 0\n",
    "        self.front_index = -1\n",
    "        self.queue_size = 0\n",
    "\n",
    "    # TODO: Add the enqueue method\n",
    "    def enqueue(self, value):\n",
    "        self.arr[self.next_index] = value\n",
    "        self.queue_size += 1\n",
    "        self.next_index = (self.next_index +1) % len(self.arr)\n",
    "        if self.front_index == -1:\n",
    "            self.front_index = 0\n",
    "        \n",
    "        "
   ]
  },
  {
   "cell_type": "heading",
   "metadata": {},
   "level": 1,
   "source": [
    "\n",
    "3. Add the size, is_empty, and front methods"
   ]
  },
  {
   "cell_type": "markdown",
   "metadata": {},
   "source": [
    "Just like with stacks, we need methods to keep track of the size of the queue and whether it is empty. We can also add a front method that returns the value of the front element.\n",
    "\n",
    "Add a size method that returns the current size of the queue\n",
    "\n",
    "Add an is_empty method that returns True if the queue is empty and False otherwise\n",
    "\n",
    "Add a front method that returns the value for the front element (whatever item is located at the front_index \n",
    "position). If the queue is empty, the front method should return None."
   ]
  },
  {
   "cell_type": "code",
   "execution_count": 14,
   "metadata": {},
   "outputs": [],
   "source": [
    "\n",
    "class Queue:\n",
    "\n",
    "    def __init__(self, initial_size=10):\n",
    "        self.arr = [0 for _ in range(initial_size)]\n",
    "        self.next_index = 0\n",
    "        self.front_index = -1\n",
    "        self.queue_size = 0\n",
    "\n",
    "    def enqueue(self, value):\n",
    "        # enqueue new element\n",
    "        self.arr[self.next_index] = value\n",
    "        self.queue_size += 1\n",
    "        self.next_index = (self.next_index + 1) % len(self.arr)\n",
    "        if self.front_index == -1:\n",
    "            self.front_index = 0\n",
    "                                    \n",
    "    # TODO: Add the size method\n",
    "    def size(self):\n",
    "        return self.queue_size\n",
    "\n",
    "    # TODO: Add the is_empty method\n",
    "    def is_empty(self):\n",
    "        return self.queue_size == 0\n",
    "    # TODO: Add the front method\n",
    "    def front(self):\n",
    "        if self.is_empty():\n",
    "            return None\n",
    "        return self.arr[self.front_index]"
   ]
  },
  {
   "cell_type": "heading",
   "metadata": {},
   "level": 1,
   "source": [
    "4. Add the dequeue method"
   ]
  },
  {
   "cell_type": "markdown",
   "metadata": {},
   "source": [
    "In the cell below, see if you can add the deqeueue method.\n",
    "\n",
    "Here's what it should do:\n",
    "\n",
    "If the queue is empty, reset the front_index and next_index and then simply return None. Otherwise...\n",
    "\n",
    "Get the value from the front of the queue and store this in a local variable (to return later)\n",
    "\n",
    "Shift the head over so that it refers to the next index\n",
    "\n",
    "Update the queue_size attribute\n",
    "\n",
    "Return the value that was dequeued"
   ]
  },
  {
   "cell_type": "code",
   "execution_count": 15,
   "metadata": {},
   "outputs": [],
   "source": [
    "class Queue:\n",
    "\n",
    "    def __init__(self, initial_size=10):\n",
    "        self.arr = [0 for _ in range(initial_size)]\n",
    "        self.next_index = 0\n",
    "        self.front_index = -1\n",
    "        self.queue_size = 0\n",
    "\n",
    "    def enqueue(self, value):\n",
    "        # enqueue new element\n",
    "        self.arr[self.next_index] = value\n",
    "        self.queue_size += 1\n",
    "        self.next_index = (self.next_index + 1) % len(self.arr)\n",
    "        if self.front_index == -1:\n",
    "            self.front_index = 0\n",
    "\n",
    "    # TODO: Add the dequeue method\n",
    "    def dequeue(self, value):\n",
    "        if self.is_empty():\n",
    "            self.front_index = -1\n",
    "            self.queue_size = 0\n",
    "            return None\n",
    "        value = self.arr[self.next_index]\n",
    "        self.front_index = (self.front_index + 1) % len(self.arr)\n",
    "        self.queue_size -= 1\n",
    "        return value\n",
    "        \n",
    "        \n",
    "\n",
    "    def size(self):\n",
    "        return self.queue_size\n",
    "\n",
    "    def is_empty(self):\n",
    "        return self.size() == 0\n",
    "\n",
    "    def front(self):\n",
    "        # check if queue is empty\n",
    "        if self.is_empty():\n",
    "            return None\n",
    "        return self.arr[self.front_index]"
   ]
  },
  {
   "cell_type": "heading",
   "metadata": {},
   "level": 1,
   "source": [
    "5. Add the _handle_queue_capacity_full method"
   ]
  },
  {
   "cell_type": "markdown",
   "metadata": {},
   "source": [
    "First, define the _handle_queue_capacity_full method:\n",
    "\n",
    "Define an old_arr variable and assign the the current (full) array so that we have a copy of it\n",
    "\n",
    "Create a new (larger) array and assign it to arr.\n",
    "\n",
    "Iterate over the values in the old array and copy them to the new array. Remember that you'll need two for loops for this.\n",
    "\n",
    "Then, in the enqueue method:\n",
    "\n",
    "Add a conditional to check if the queue is full; if it is, call _handle_queue_capacity_full"
   ]
  },
  {
   "cell_type": "code",
   "execution_count": 16,
   "metadata": {},
   "outputs": [],
   "source": [
    "class Queue:\n",
    "\n",
    "    def __init__(self, initial_size=10):\n",
    "        self.arr = [0 for _ in range(initial_size)]\n",
    "        self.next_index = 0\n",
    "        self.front_index = -1\n",
    "        self.queue_size = 0\n",
    "\n",
    "    def enqueue(self, value):\n",
    "        # TODO: Check if the queue is full; if it is, call the _handle_queue_capacity_full method\n",
    "\n",
    "        # enqueue new element\n",
    "        self.arr[self.next_index] = value\n",
    "        self.queue_size += 1\n",
    "        self.next_index = (self.next_index + 1) % len(self.arr)\n",
    "        if self.front_index == -1:\n",
    "            self.front_index = 0\n",
    "\n",
    "    def dequeue(self):\n",
    "        # check if queue is empty\n",
    "        if self.is_empty():\n",
    "            self.front_index = -1   # resetting pointers\n",
    "            self.next_index = 0\n",
    "            return None\n",
    "\n",
    "        # dequeue front element\n",
    "        value = self.arr[self.front_index]\n",
    "        self.front_index = (self.front_index + 1) % len(self.arr)\n",
    "        self.queue_size -= 1\n",
    "        return value\n",
    "\n",
    "    def size(self):\n",
    "        return self.queue_size\n",
    "\n",
    "    def is_empty(self):\n",
    "        return self.size() == 0\n",
    "\n",
    "    def front(self):\n",
    "        # check if queue is empty\n",
    "        if self.is_empty():\n",
    "            return None\n",
    "        return self.arr[self.front_index]\n",
    "\n",
    "    # TODO: Add the _handle_queue_capacity_full method\n",
    "    def _handle_queue_capacity_full(self):\n",
    "        old_arr = self.arr\n",
    "        self.arr = [0 for _ in range(2 * len(old_arr))]\n",
    "\n",
    "        index = 0\n",
    "\n",
    "        # copy all elements from front of queue (front-index) until end\n",
    "        for i in range(self.front_index, len(old_arr)):\n",
    "            self.arr[index] = old_arr[i]\n",
    "            index += 1\n",
    "\n",
    "        # case: when front-index is ahead of next index\n",
    "        for i in range(0, self.front_index):\n",
    "            self.arr[index] = old_arr[i]\n",
    "            index += 1\n",
    "\n",
    "        # reset pointers\n",
    "        self.front_index = 0\n",
    "        self.next_index = index"
   ]
  },
  {
   "cell_type": "heading",
   "metadata": {},
   "level": 1,
   "source": [
    "Test your queue"
   ]
  },
  {
   "cell_type": "code",
   "execution_count": 17,
   "metadata": {},
   "outputs": [
    {
     "name": "stdout",
     "output_type": "stream",
     "text": [
      "Pass\nPass\nPass\nPass\nPass\nPass\n"
     ]
    }
   ],
   "source": [
    "# Setup\n",
    "q = Queue()\n",
    "q.enqueue(1)\n",
    "q.enqueue(2)\n",
    "q.enqueue(3)\n",
    "\n",
    "# Test size\n",
    "print (\"Pass\" if (q.size() == 3) else \"Fail\")\n",
    "\n",
    "# Test dequeue\n",
    "print (\"Pass\" if (q.dequeue() == 1) else \"Fail\")\n",
    "\n",
    "# Test enqueue\n",
    "q.enqueue(4)\n",
    "print (\"Pass\" if (q.dequeue() == 2) else \"Fail\")\n",
    "print (\"Pass\" if (q.dequeue() == 3) else \"Fail\")\n",
    "print (\"Pass\" if (q.dequeue() == 4) else \"Fail\")\n",
    "q.enqueue(5)\n",
    "print (\"Pass\" if (q.size() == 1) else \"Fail\")"
   ]
  },
  {
   "cell_type": "code",
   "execution_count": null,
   "metadata": {},
   "outputs": [],
   "source": []
  }
 ],
 "metadata": {
  "kernelspec": {
   "display_name": "Python 2",
   "language": "python",
   "name": "python2"
  },
  "language_info": {
   "codemirror_mode": {
    "name": "ipython",
    "version": 2
   },
   "file_extension": ".py",
   "mimetype": "text/x-python",
   "name": "python",
   "nbconvert_exporter": "python",
   "pygments_lexer": "ipython2",
   "version": "2.7.6"
  }
 },
 "nbformat": 4,
 "nbformat_minor": 0
}
