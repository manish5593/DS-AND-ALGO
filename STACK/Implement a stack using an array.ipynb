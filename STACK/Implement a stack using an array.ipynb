{
 "cells": [
  {
   "cell_type": "heading",
   "metadata": {
    "collapsed": true
   },
   "level": 1,
   "source": [
    "Functionality"
   ]
  },
  {
   "cell_type": "markdown",
   "metadata": {},
   "source": [
    "Our goal will be to implement a Stack class that has the following behaviors:"
   ]
  },
  {
   "cell_type": "markdown",
   "metadata": {},
   "source": [
    "push - adds an item to the top of the stack\n",
    "\n",
    "\n",
    "pop - removes an item from the top of the stack (and returns the value of that item)\n",
    "\n",
    "\n",
    "size - returns the size of the stack\n",
    "\n",
    "\n",
    "top - returns the value of the item at the top of stack (without removing that item)\n",
    "\n",
    "\n",
    "is_empty - returns True if the stack is empty and False otherwise"
   ]
  },
  {
   "cell_type": "heading",
   "metadata": {},
   "level": 1,
   "source": [
    "1. Create and initialize the Stack class"
   ]
  },
  {
   "cell_type": "markdown",
   "metadata": {},
   "source": [
    "First, have a look at the walkthrough:"
   ]
  },
  {
   "cell_type": "markdown",
   "metadata": {},
   "source": [
    "Define a class named Stack and add the __init__ method\n",
    "\n",
    "Initialize the arr attribute with an array containing 10 elements, like this: [0, 0, 0, 0, 0, 0, 0, 0, 0, 0]\n",
    "\n",
    "Initialize the next_index attribute\n",
    "\n",
    "Initialize the num_elements attribute"
   ]
  },
  {
   "cell_type": "code",
   "execution_count": 11,
   "metadata": {},
   "outputs": [],
   "source": [
    "class Stack:\n",
    "    def __init__(self, size = 10):\n",
    "        self.arr = [0 for _ in range(size)]\n",
    "        self.next_index = 0\n",
    "        self.num_elements = 0\n",
    "        \n",
    "    "
   ]
  },
  {
   "cell_type": "heading",
   "metadata": {},
   "level": 1,
   "source": [
    ""
   ]
  },
  {
   "cell_type": "markdown",
   "metadata": {},
   "source": [
    "Let's check that the array is being initialized correctly. We can create a Stack object and access the arr attribute, and we should see our ten-element array:"
   ]
  },
  {
   "cell_type": "code",
   "execution_count": 12,
   "metadata": {},
   "outputs": [
    {
     "name": "stdout",
     "output_type": "stream",
     "text": [
      "[0, 0, 0, 0, 0, 0, 0, 0, 0, 0]\nPass\n"
     ]
    }
   ],
   "source": [
    "foo = Stack()\n",
    "print(foo.arr)\n",
    "print(\"Pass\" if foo.arr == [0, 0, 0, 0, 0, 0, 0, 0, 0, 0] else \"Fail\")"
   ]
  },
  {
   "cell_type": "heading",
   "metadata": {},
   "level": 1,
   "source": [
    "2. Add the push method"
   ]
  },
  {
   "cell_type": "markdown",
   "metadata": {},
   "source": [
    "Next, we need to define our push method, so that we have a way of adding elements to the top of the stack."
   ]
  },
  {
   "cell_type": "markdown",
   "metadata": {},
   "source": [
    "Now give it a try for yourself. Here's are the key things to include:\n",
    "\n",
    "The method will need to have a parameter for the value that you want to push\n",
    "Remember that next_index will have the index for where the value should be added\n",
    "Once you've added the value, you'll want to increment both next_index and num_elements"
   ]
  },
  {
   "cell_type": "code",
   "execution_count": 27,
   "metadata": {},
   "outputs": [],
   "source": [
    "class Stack:\n",
    "    def __init__(self, size = 10):\n",
    "        self.arr = [0 for _ in range(size)]\n",
    "        self.next_index = 0\n",
    "        self.num_elements = 0\n",
    "    def push(self, data):\n",
    "       self.arr[self.next_index] = data\n",
    "       self.next_index += 1\n",
    "       self.num_elements += 1"
   ]
  },
  {
   "cell_type": "heading",
   "metadata": {},
   "level": 1,
   "source": [
    "3. Handle full capacity"
   ]
  },
  {
   "cell_type": "markdown",
   "metadata": {},
   "source": [
    "Let's test it by creating a stack object and pushing an item onto the stack:"
   ]
  },
  {
   "cell_type": "code",
   "execution_count": 28,
   "metadata": {},
   "outputs": [
    {
     "name": "stdout",
     "output_type": "stream",
     "text": [
      "['Test!', 0, 0, 0, 0, 0, 0, 0, 0, 0]\nPass\n"
     ]
    }
   ],
   "source": [
    "foo = Stack()\n",
    "foo.push(\"Test!\")\n",
    "print(foo.arr)\n",
    "print(\"Pass\" if foo.arr[0] == \"Test!\" else \"Fail\")"
   ]
  },
  {
   "cell_type": "heading",
   "metadata": {},
   "level": 1,
   "source": [
    "3. Handle full capacity"
   ]
  },
  {
   "cell_type": "markdown",
   "metadata": {},
   "source": [
    "Great, the push method seems to be working fine! But we know that it's not done yet. If we keep pushing items onto the stack, eventually we will run out of room in the array. Currently, that will cause an Index out of range error. In order to avoid a stack overflow, we need to check the capacity of the array before pushing an item to the stack. And if the array is full, we need to increase the array size before pushing the new element."
   ]
  },
  {
   "cell_type": "markdown",
   "metadata": {},
   "source": [
    "First, define the _handle_stack_capacity_full method:\n",
    "\n",
    "Define an old_arr variable and assign it the current (full) array\n",
    "\n",
    "Create a new (larger) array and assign it to arr.\n",
    "\n",
    "Iterate over the values in the old array and copy them to the new array.\n",
    "\n",
    "Then, in the push method:\n",
    "\n",
    "Add a conditional to check if the array is full; if it is, call the _handle_stack_capacity_full"
   ]
  },
  {
   "cell_type": "code",
   "execution_count": 29,
   "metadata": {},
   "outputs": [],
   "source": [
    "class Stack:\n",
    "\n",
    "    def __init__(self, initial_size = 10):\n",
    "        self.arr = [0 for _ in range(initial_size)]\n",
    "        self.next_index = 0\n",
    "        self.num_elements = 0\n",
    "\n",
    "    def push(self, data):\n",
    "        # TODO: Add a conditional to check for full capacity\n",
    "        if self.next_index == len(self.arr):\n",
    "            print('array is full increase the capacity')\n",
    "            self._handle_stack_capacity_full()\n",
    "\n",
    "        self.arr[self.next_index] = data\n",
    "        self.next_index += 1\n",
    "        self.num_elements += 1\n",
    "\n",
    "    # TODO: Add the _handle_stack_capacity_full method\n",
    "    def _handle_stack_capacity_full(self):\n",
    "        old_arr = self.arr\n",
    "        self.arr = [0 for _ in range (2* len(old_arr))]\n",
    "        for index, element in enumerate(old_arr):\n",
    "            self.arr[index] = element"
   ]
  },
  {
   "cell_type": "markdown",
   "metadata": {},
   "source": [
    "We can test this by pushing items onto the stack until we exceed the original capacity. Let's try it and see if we get an error, or if the array size gets increased like we want it to."
   ]
  },
  {
   "cell_type": "code",
   "execution_count": 30,
   "metadata": {},
   "outputs": [
    {
     "name": "stdout",
     "output_type": "stream",
     "text": [
      "array is full increase the capacity\n[1, 2, 3, 4, 5, 6, 7, 8, 9, 10, 11, 0, 0, 0, 0, 0, 0, 0, 0, 0]\nPass\n"
     ]
    }
   ],
   "source": [
    "foo = Stack()\n",
    "foo.push(1)\n",
    "foo.push(2)\n",
    "foo.push(3)\n",
    "foo.push(4)\n",
    "foo.push(5)\n",
    "foo.push(6)\n",
    "foo.push(7)\n",
    "foo.push(8)\n",
    "foo.push(9)\n",
    "foo.push(10) # The array is now at capacity!\n",
    "foo.push(11) # This one should cause the array to increase in size\n",
    "print(foo.arr) # Let's see what the array looks like now!\n",
    "print(\"Pass\" if len(foo.arr) == 20 else \"Fail\") # If we successfully doubled the array size, it should now be 20."
   ]
  },
  {
   "cell_type": "heading",
   "metadata": {},
   "level": 1,
   "source": [
    "4. Add the size and is_empty methods"
   ]
  },
  {
   "cell_type": "markdown",
   "metadata": {},
   "source": [
    "Next, we need to add a couple of simple methods:\n",
    "\n",
    "Add a size method that returns the current size of the stack\n",
    "\n",
    "Add an is_empty method that returns True if the stack is empty and False otherwise\n",
    "\n",
    "(This one is pretty straightforward, so there's no walkthrough—but there's still solution code below if you should need it.)"
   ]
  },
  {
   "cell_type": "code",
   "execution_count": 34,
   "metadata": {},
   "outputs": [],
   "source": [
    "class Stack:\n",
    "\n",
    "    def __init__(self, initial_size = 10):\n",
    "        self.arr = [0 for _ in range(initial_size)]\n",
    "        self.next_index = 0\n",
    "        self.num_elements = 0\n",
    "\n",
    "    def push(self, data):\n",
    "        if self.next_index == len(self.arr):\n",
    "            print(\"Out of space! Increasing array capacity ...\")\n",
    "            self._handle_stack_capacity_full()\n",
    "\n",
    "        self.arr[self.next_index] = data\n",
    "        self.next_index += 1\n",
    "        self.num_elements += 1\n",
    "\n",
    "    # TODO: Add the size method\n",
    "    def size(self):\n",
    "        return self.num_elements\n",
    "    def is_empty(self):\n",
    "        return self.num_elements == 0\n",
    "\n",
    "    # TODO: Add the is_empty method\n",
    "\n",
    "    def _handle_stack_capacity_full(self):\n",
    "        old_arr = self.arr\n",
    "\n",
    "        self.arr = [0 for _ in range( 2* len(old_arr))]\n",
    "        for index, value in enumerate(old_arr):\n",
    "            self.arr[index] = value"
   ]
  },
  {
   "cell_type": "markdown",
   "metadata": {},
   "source": [
    "Let's test the new methods:"
   ]
  },
  {
   "cell_type": "code",
   "execution_count": 35,
   "metadata": {},
   "outputs": [
    {
     "name": "stdout",
     "output_type": "stream",
     "text": [
      "0\nTrue\n1\nFalse\n"
     ]
    }
   ],
   "source": [
    "foo = Stack()\n",
    "print(foo.size()) # Should return 0\n",
    "print(foo.is_empty()) # Should return True\n",
    "foo.push(\"Test\") # Let's push an item onto the stack and check again\n",
    "print(foo.size()) # Should return 1\n",
    "print(foo.is_empty()) # Should return False"
   ]
  },
  {
   "cell_type": "heading",
   "metadata": {},
   "level": 1,
   "source": [
    "5. Add the pop method"
   ]
  },
  {
   "cell_type": "markdown",
   "metadata": {},
   "source": [
    "The last thing we need to do is add the pop method."
   ]
  },
  {
   "cell_type": "markdown",
   "metadata": {},
   "source": [
    "The method needs to:\n",
    "\n",
    "Check if the stack is empty and, if it is, return None\n",
    "\n",
    "Decrement next_index and num_elements\n",
    "\n",
    "Return the item that is being \"popped\""
   ]
  },
  {
   "cell_type": "code",
   "execution_count": 45,
   "metadata": {},
   "outputs": [],
   "source": [
    "class Stack:\n",
    "\n",
    "    def __init__(self, initial_size = 10):\n",
    "        self.arr = [0 for _ in range(initial_size)]\n",
    "        self.next_index = 0\n",
    "        self.num_elements = 0\n",
    "\n",
    "    def push(self, data):\n",
    "        if self.next_index == len(self.arr):\n",
    "            print(\"Out of space! Increasing array capacity ...\")\n",
    "            self._handle_stack_capacity_full()\n",
    "\n",
    "        self.arr[self.next_index] = data\n",
    "        self.next_index += 1\n",
    "        self.num_elements += 1\n",
    "\n",
    "    # TODO: Add the pop method\n",
    "    def pop(self):\n",
    "        if self.is_empty():\n",
    "            self.next_index = 0\n",
    "            return None\n",
    "        self.next_index -= 1\n",
    "        self.num_elements -= 1\n",
    "        return self.arr[self.next_index]\n",
    "\n",
    "    def size(self):\n",
    "        return self.num_elements\n",
    "\n",
    "    def is_empty(self):\n",
    "        return self.num_elements == 0\n",
    "\n",
    "    def _handle_stack_capacity_full(self):\n",
    "        old_arr = self.arr\n",
    "\n",
    "        self.arr = [0 for _ in range( 2* len(old_arr))]\n",
    "        for index, value in enumerate(old_arr):\n",
    "            self.arr[index] = value"
   ]
  },
  {
   "cell_type": "markdown",
   "metadata": {},
   "source": [
    "\n",
    "Let's test the pop method:"
   ]
  },
  {
   "cell_type": "code",
   "execution_count": 46,
   "metadata": {},
   "outputs": [
    {
     "name": "stdout",
     "output_type": "stream",
     "text": [
      "Test\nNone\n"
     ]
    }
   ],
   "source": [
    "foo = Stack()\n",
    "foo.push(\"Test\") # We first have to push an item so that we'll have something to pop\n",
    "print(foo.pop()) # Should return the popped item, which is \"Test\"\n",
    "print(foo.pop()) # Should return None, since there's nothing left in the stack"
   ]
  },
  {
   "cell_type": "code",
   "execution_count": null,
   "metadata": {},
   "outputs": [],
   "source": []
  }
 ],
 "metadata": {
  "kernelspec": {
   "display_name": "Python 2",
   "language": "python",
   "name": "python2"
  },
  "language_info": {
   "codemirror_mode": {
    "name": "ipython",
    "version": 2
   },
   "file_extension": ".py",
   "mimetype": "text/x-python",
   "name": "python",
   "nbconvert_exporter": "python",
   "pygments_lexer": "ipython2",
   "version": "2.7.6"
  }
 },
 "nbformat": 4,
 "nbformat_minor": 0
}
